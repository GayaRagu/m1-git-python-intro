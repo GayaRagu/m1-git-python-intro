{
 "cells": [
  {
   "cell_type": "markdown",
   "metadata": {},
   "source": [
    "# Warmup: adder function\n",
    "\n",
    "Create a function that takes two numbers as arguments and return their sum.\n",
    "Examples\n",
    "\n",
    "addition(3, 2) ➞ 5\n",
    "\n",
    "addition(-3, -6) ➞ -9\n",
    "\n",
    "addition(7, 3) ➞ 10"
   ]
  },
  {
   "cell_type": "code",
   "execution_count": 1,
   "metadata": {},
   "outputs": [
    {
     "name": "stdout",
     "output_type": "stream",
     "text": [
      "5\n",
      "-9\n",
      "10\n"
     ]
    }
   ],
   "source": [
    "def addition(a,b):\n",
    "    return a+b\n",
    "\n",
    "\n",
    "print(addition(3,2))\n",
    "print(addition(-3,-6))\n",
    "print(addition(7,3))"
   ]
  },
  {
   "cell_type": "markdown",
   "metadata": {},
   "source": [
    "# Warmup 2: even numbers\n",
    "\n",
    "Generate a Python list of all the even numbers between 4 to 3048"
   ]
  },
  {
   "cell_type": "code",
   "execution_count": 2,
   "metadata": {},
   "outputs": [
    {
     "name": "stdout",
     "output_type": "stream",
     "text": [
      "3048\n"
     ]
    }
   ],
   "source": [
    "mylist=[]\n",
    "\n",
    "for x in range(4, 3049):\n",
    "    if x % 2 == 0:\n",
    "        mylist.append(x)\n",
    "\n",
    "print(mylist[-1])"
   ]
  },
  {
   "cell_type": "markdown",
   "metadata": {},
   "source": [
    "# Exercise 1: First and Last \n",
    "\n",
    "Creates a function that takes a string and returns the first and last character.\n",
    "### Examples\n",
    "\n",
    "```\n",
    "first_last(\"ganesh\") ➞ \"gh\"\n",
    "\n",
    "first_last(\"kali\") ➞ \"ki\"\n",
    "\n",
    "first_last(\"shiva\") ➞ \"sa\"\n",
    "\n",
    "first_last(\"vishnu\") ➞ \"vu\"\n",
    "\n",
    "first_last(\"durga\") ➞ \"da\"\n",
    "```"
   ]
  },
  {
   "cell_type": "code",
   "execution_count": 3,
   "metadata": {},
   "outputs": [
    {
     "name": "stdout",
     "output_type": "stream",
     "text": [
      "gh\n",
      "ki\n",
      "sa\n",
      "vu\n",
      "da\n"
     ]
    }
   ],
   "source": [
    "# Function that takes a string and returns the first and last character\n",
    "\n",
    "def first_last(my_string):\n",
    "    return my_string[0] + my_string[-1]\n",
    "\n",
    "# Test Scenarios & print result   \n",
    "\n",
    "print(first_last(\"ganesh\"))\n",
    "print(first_last(\"kali\"))\n",
    "print(first_last(\"shiva\"))\n",
    "print(first_last(\"vishnu\"))\n",
    "print(first_last(\"durga\"))"
   ]
  },
  {
   "cell_type": "markdown",
   "metadata": {},
   "source": [
    "# Exercise 2: Keys in Dict\n",
    "\n",
    "Write a function that returns `True` if a dictionary contains the specified key, and `False` otherwise.\n",
    "\n",
    "### Examples\n",
    "\n",
    "```\n",
    "has_key({ \"a\": 44, \"b\": 45, \"c\": 46 }, \"d\") ➞ False\n",
    "\n",
    "has_key({ \"craves\": True, \"midnight\": True, \"snack\": True }, \"morning\") ➞ False\n",
    "\n",
    "has_key({ \"pot\": 1, \"tot\": 2, \"not\": 3 }, \"not\") ➞ True\n",
    "```"
   ]
  },
  {
   "cell_type": "code",
   "execution_count": 4,
   "metadata": {},
   "outputs": [
    {
     "name": "stdout",
     "output_type": "stream",
     "text": [
      "False\n",
      "False\n",
      "True\n"
     ]
    }
   ],
   "source": [
    "# Function that returns True if a dictionary contains the specified key, and False otherwise\n",
    "\n",
    "def has_key(my_dict,spec_key):\n",
    "    if spec_key in my_dict:\n",
    "        return True\n",
    "    else:\n",
    "        return False\n",
    "\n",
    "# Test Scenarios        \n",
    "\n",
    "dict1 = { \"a\": 44, \"b\": 45, \"c\": 46 }\n",
    "key1 = \"d\"\n",
    "\n",
    "dict2 = { \"craves\": True, \"midnight\": True, \"snack\": True }\n",
    "key2 = \"morning\"\n",
    "\n",
    "dict3 = { \"pot\": 1, \"tot\": 2, \"not\": 3 }\n",
    "key3 = \"not\"        \n",
    "\n",
    "# Print result\n",
    "\n",
    "print(has_key (dict1,key1))\n",
    "print(has_key (dict2,key2))\n",
    "print(has_key (dict3,key3))"
   ]
  },
  {
   "cell_type": "markdown",
   "metadata": {},
   "source": [
    "# Exercise 3: Element Count\n",
    "\n",
    "Write a function that count how many times each element in a list occurs. It should return a dict in the format `element -> count`\n",
    "\n",
    "ex:\n",
    "```\n",
    "key_count([1, 3, 2, 1, 5, 3, 5, 1, 4]) ⇒ {\n",
    "    1: 3,\n",
    "    2: 1,\n",
    "    3: 2,\n",
    "    4: 1,\n",
    "    5: 2,\n",
    "}\n",
    "```"
   ]
  },
  {
   "cell_type": "code",
   "execution_count": 5,
   "metadata": {},
   "outputs": [
    {
     "data": {
      "text/plain": [
       "{1: 3, 2: 1, 3: 2, 4: 1, 5: 2}"
      ]
     },
     "execution_count": 5,
     "metadata": {},
     "output_type": "execute_result"
    }
   ],
   "source": [
    "# Function that count how many times each element in a list occurs. It should return a dict in the format element -> count\n",
    "\n",
    "def key_count(my_list):\n",
    "    my_uniquelist = set(my_list)\n",
    "    k, v = [],[]\n",
    "    for i in my_uniquelist:\n",
    "        k.append(i)\n",
    "        v.append(my_list.count(i))\n",
    "        my_list_keycount = dict(zip(k,v))\n",
    "    return my_list_keycount\n",
    "\n",
    "# Test Scenarios \n",
    "\n",
    "my_list = [1, 3, 2, 1, 5, 3, 5, 1, 4]\n",
    "\n",
    "# Print result\n",
    "\n",
    "key_count(my_list)"
   ]
  },
  {
   "cell_type": "markdown",
   "metadata": {},
   "source": [
    "# Exercise 4: Test Distinct\n",
    "\n",
    "Write a Python function that takes a sequence of numbers and determines whether all the numbers are different from each other.\n",
    "\n",
    "```\n",
    "test_distinct([2,3,4,5,7,8]) -> True\n",
    "test_distinct([2,3,4,5,8,8]) -> False\n",
    "```"
   ]
  },
  {
   "cell_type": "code",
   "execution_count": 6,
   "metadata": {},
   "outputs": [
    {
     "name": "stdout",
     "output_type": "stream",
     "text": [
      "True\n",
      "False\n"
     ]
    }
   ],
   "source": [
    "# Function that takes a sequence of numbers and determines whether all the numbers are different from each other\n",
    "\n",
    "def test_distinct(my_list):\n",
    "    if len(my_list) == len(set(my_list)):\n",
    "        return True\n",
    "    else:\n",
    "        return False\n",
    "\n",
    "# Test Scenarios \n",
    "\n",
    "list1 = [2,3,4,5,7,8]\n",
    "list2 = [2,3,4,5,8,8]\n",
    "\n",
    "# Print result\n",
    "\n",
    "print(test_distinct(list1))\n",
    "print(test_distinct(list2))"
   ]
  },
  {
   "cell_type": "markdown",
   "metadata": {},
   "source": [
    "# Exercise 5: Debt Calculator\n",
    "\n",
    "Write a Python program to compute the amount of the debt in n months. The borrowing amount is $100,000 and the loan adds 5% interest of the debt and rounds it to the nearest 1,000 above month by month.\n",
    "\n",
    "The function takes in an integer (the number of months) and returns the total debt including the starting \\$100,000 rounded to \\$1000 .\n",
    "\n",
    "```\n",
    "debt_total(7) -> 144000\n",
    "debt_total(8) -> 152000\n",
    "debt_total(9) -> 160000\n",
    "debt_total(1) -> 105000\n",
    "debt_total(57) -> 1736000\n",
    "```\n"
   ]
  },
  {
   "cell_type": "code",
   "execution_count": 7,
   "metadata": {},
   "outputs": [
    {
     "name": "stdout",
     "output_type": "stream",
     "text": [
      "144000\n",
      "152000\n",
      "160000\n",
      "105000\n",
      "1736000\n"
     ]
    }
   ],
   "source": [
    "# Function takes in an integer (the number of months) and returns the total debt including the starting 100_000 rounded to 1000\n",
    "\n",
    "def debt_total (principal,interest,months):\n",
    "    for m in range(months):\n",
    "        amnt = principal*(1+interest)\n",
    "        if round(amnt,-3) >= amnt:\n",
    "            principal = round(amnt,-3)\n",
    "        else:\n",
    "            principal = round(amnt,-3)+1000\n",
    "    return round(principal)\n",
    "\n",
    "# Test scenarios and print results\n",
    "\n",
    "print(debt_total(100000,0.05,7))\n",
    "print(debt_total(100000,0.05,8))\n",
    "print(debt_total(100000,0.05,9))\n",
    "print(debt_total(100000,0.05,1))\n",
    "print(debt_total(100000,0.05,57))"
   ]
  },
  {
   "cell_type": "markdown",
   "metadata": {},
   "source": [
    "# Exercise 6: Spell Checker\n",
    "\n",
    "Create a function that takes in two lists: \n",
    "\n",
    "1. A sentence as a list of user-typed words\n",
    "\n",
    "2. The list of correctly-typed words\n",
    "\n",
    "and outputs a list containing 1s (correctly-typed words) and 0s (incorrectly-typed words).\n",
    "\n",
    "### Inputs:\n",
    "> User-typed: \\[\"cat\", \"blue\", \"skt\", \"umbrells\", \"paddy\"\\]\n",
    "\n",
    "> Correct: \\[\"cat\", \"blue\", \"sky\", \"umbrella\", \"paddy\"\\]\n",
    "\n",
    "### Output: \\[ 1, 1, 0, 0, 1 \\]\n",
    "\n",
    "### Examples\n",
    "\n",
    "```\n",
    "correct_stream(\n",
    "  [\"it\", \"is\", \"find\"],\n",
    "  [\"it\", \"is\", \"fine\"]\n",
    ") ➞ [1, 1, 0]\n",
    "\n",
    "correct_stream(\n",
    "  [\"april\", \"showrs\", \"bring\", \"may\", \"flowers\"],\n",
    "  [\"april\", \"showers\", \"bring\", \"may\", \"flowers\"]\n",
    ") ➞ [1, 0, 1, 1, 1]\n",
    "\n",
    "```"
   ]
  },
  {
   "cell_type": "code",
   "execution_count": 8,
   "metadata": {},
   "outputs": [
    {
     "name": "stdout",
     "output_type": "stream",
     "text": [
      "[1, 1, 0, 0, 1]\n",
      "[1, 1, 0]\n",
      "[1, 0, 1, 1, 1]\n"
     ]
    }
   ],
   "source": [
    "# Function that takes in two lists, and outputs a list containing 1s (correctly-typed words) and 0s (incorrectly-typed words)\n",
    "\n",
    "def spell_checker (user_list,system_list):\n",
    "    correct_stream = []\n",
    "    for word in user_list:\n",
    "        if word in system_list:\n",
    "            correct_stream.append(1)\n",
    "        else:\n",
    "            correct_stream.append(0)\n",
    "    return correct_stream\n",
    "\n",
    "# Test Scenarios\n",
    "\n",
    "user1 = [\"cat\", \"blue\", \"skt\", \"umbrells\", \"paddy\"]\n",
    "system1 = [\"cat\", \"blue\", \"sky\", \"umbrella\", \"paddy\"]\n",
    "\n",
    "user2 = [\"it\",\"is\",\"find\"]\n",
    "system2 = [\"it\", \"is\", \"fine\"]\n",
    "\n",
    "user3 = [\"april\", \"showrs\", \"bring\", \"may\", \"flowers\"]\n",
    "system3 = [\"april\", \"showers\", \"bring\", \"may\", \"flowers\"]\n",
    "\n",
    "# Print test results\n",
    "\n",
    "print(spell_checker(user1,system1))\n",
    "print(spell_checker(user2,system2))\n",
    "print(spell_checker(user3,system3))"
   ]
  },
  {
   "cell_type": "markdown",
   "metadata": {},
   "source": [
    "# Exercise 7: FizzBuzz\n",
    "\n",
    "Fizzbuzz is a game for children and a drinking game for adults. It's also a classic programming interview question.\n",
    "\n",
    "Suppose we have a number n. We have to display a string representation of all numbers from 1 to n, but there are some constraints.\n",
    "\n",
    "    If the number is divisible by 3, write Fizz instead of the number\n",
    "    If the number is divisible by 5, write Buzz instead of the number\n",
    "    If the number is divisible by 3 and 5 both, write FizzBuzz instead of the number\n",
    "\n",
    "So the results are `1, 2, Fizz, 4, Buzz, ..., 14, Fizzbuzz, 16, 17, Fizz, 19, Buzz, ...`\n",
    "\n",
    "Write a python program that prints fizzbuzz for numbers 1 to 150"
   ]
  },
  {
   "cell_type": "code",
   "execution_count": 9,
   "metadata": {},
   "outputs": [
    {
     "name": "stdout",
     "output_type": "stream",
     "text": [
      "1\n",
      "2\n",
      "Fizz\n",
      "4\n",
      "Buzz\n",
      "Fizz\n",
      "7\n",
      "8\n",
      "Fizz\n",
      "Buzz\n",
      "11\n",
      "Fizz\n",
      "13\n",
      "14\n",
      "FizzBuzz\n",
      "16\n",
      "17\n",
      "Fizz\n",
      "19\n",
      "Buzz\n",
      "Fizz\n",
      "22\n",
      "23\n",
      "Fizz\n",
      "Buzz\n",
      "26\n",
      "Fizz\n",
      "28\n",
      "29\n",
      "FizzBuzz\n",
      "31\n",
      "32\n",
      "Fizz\n",
      "34\n",
      "Buzz\n",
      "Fizz\n",
      "37\n",
      "38\n",
      "Fizz\n",
      "Buzz\n",
      "41\n",
      "Fizz\n",
      "43\n",
      "44\n",
      "FizzBuzz\n",
      "46\n",
      "47\n",
      "Fizz\n",
      "49\n",
      "Buzz\n",
      "Fizz\n",
      "52\n",
      "53\n",
      "Fizz\n",
      "Buzz\n",
      "56\n",
      "Fizz\n",
      "58\n",
      "59\n",
      "FizzBuzz\n",
      "61\n",
      "62\n",
      "Fizz\n",
      "64\n",
      "Buzz\n",
      "Fizz\n",
      "67\n",
      "68\n",
      "Fizz\n",
      "Buzz\n",
      "71\n",
      "Fizz\n",
      "73\n",
      "74\n",
      "FizzBuzz\n",
      "76\n",
      "77\n",
      "Fizz\n",
      "79\n",
      "Buzz\n",
      "Fizz\n",
      "82\n",
      "83\n",
      "Fizz\n",
      "Buzz\n",
      "86\n",
      "Fizz\n",
      "88\n",
      "89\n",
      "FizzBuzz\n",
      "91\n",
      "92\n",
      "Fizz\n",
      "94\n",
      "Buzz\n",
      "Fizz\n",
      "97\n",
      "98\n",
      "Fizz\n",
      "Buzz\n",
      "101\n",
      "Fizz\n",
      "103\n",
      "104\n",
      "FizzBuzz\n",
      "106\n",
      "107\n",
      "Fizz\n",
      "109\n",
      "Buzz\n",
      "Fizz\n",
      "112\n",
      "113\n",
      "Fizz\n",
      "Buzz\n",
      "116\n",
      "Fizz\n",
      "118\n",
      "119\n",
      "FizzBuzz\n",
      "121\n",
      "122\n",
      "Fizz\n",
      "124\n",
      "Buzz\n",
      "Fizz\n",
      "127\n",
      "128\n",
      "Fizz\n",
      "Buzz\n",
      "131\n",
      "Fizz\n",
      "133\n",
      "134\n",
      "FizzBuzz\n",
      "136\n",
      "137\n",
      "Fizz\n",
      "139\n",
      "Buzz\n",
      "Fizz\n",
      "142\n",
      "143\n",
      "Fizz\n",
      "Buzz\n",
      "146\n",
      "Fizz\n",
      "148\n",
      "149\n",
      "FizzBuzz\n"
     ]
    }
   ],
   "source": [
    "# Function that prints fizzbuzz for numbers 1 to 150 based on conditions\n",
    "    # If the number is divisible by 3, write Fizz instead of the number\n",
    "    # If the number is divisible by 5, write Buzz instead of the number\n",
    "    # If the number is divisible by 3 and 5 both, write FizzBuzz instead of the number\n",
    "\n",
    "def run_fizzbuzz(myrange):\n",
    "    for n in range(1,151):\n",
    "        if n % 3 == 0 and n % 5 == 0:\n",
    "            n = \"FizzBuzz\"\n",
    "        elif n % 3 == 0:\n",
    "            n = \"Fizz\"\n",
    "        else:\n",
    "            if n % 5 == 0:\n",
    "                n = \"Buzz\"\n",
    "        print(n)\n",
    "\n",
    "# Print test results\n",
    "run_fizzbuzz(range(1,151))"
   ]
  },
  {
   "cell_type": "markdown",
   "metadata": {},
   "source": [
    "# Exercise 8: Palindrome?\n",
    "\n",
    "A palindrome is a word which reads the same backward as forwards. Write a function that returns `True` if a string is a palindrome:\n",
    "```\n",
    "    “laval” ⇒ Yes\n",
    "    “montreal” ⇒ No\n",
    "```"
   ]
  },
  {
   "cell_type": "code",
   "execution_count": 10,
   "metadata": {},
   "outputs": [
    {
     "name": "stdout",
     "output_type": "stream",
     "text": [
      "True\n",
      "False\n"
     ]
    }
   ],
   "source": [
    "# Function that returns True if a string is a palindrome\n",
    "\n",
    "def is_palindrome(my_string):\n",
    "    reversed_string = \"\"\n",
    "    for i in range(1,len(my_string)+1):\n",
    "        reversed_string = reversed_string + my_string[-i]\n",
    "\n",
    "    if reversed_string==my_string:\n",
    "        return True\n",
    "    else:\n",
    "        return False\n",
    "    \n",
    "# Test scenarios and print results\n",
    "\n",
    "print(is_palindrome(\"laval\"))\n",
    "print(is_palindrome(\"montreal\"))"
   ]
  },
  {
   "cell_type": "markdown",
   "metadata": {},
   "source": [
    "# Exercise 9: Counting Country IDs\n",
    "\n",
    "We have a list of user IDS with identifiers of form “userid-COUNTRYID”. Calculate how many countries we have.\n",
    "\n",
    "Ex:\n",
    "```\n",
    "[gyhwefy7832ryyg-US, iu7ytf87gyuwef-CA, 98yfyg82t3r-US] -> {'US': 2, 'CA': 1}\n",
    "\n",
    "[gyhwefy7832ryyg-US, iu7ytf87gyuwef-CA, 98yfyg82t3r-US,\n",
    "    iuhsdf897y3righsfe-US, iushdf98h23ryg-IT, iuhdf9h32ryu9gf-IT,\n",
    "    IUufgh98y34-FR, 98yfdiuhdfbviuh8-UK\n",
    "] -> {'US': 3, 'CA': 1, \"IT\": 2, 'UK':1, 'FR':1}\n",
    "```"
   ]
  },
  {
   "cell_type": "code",
   "execution_count": 11,
   "metadata": {},
   "outputs": [
    {
     "name": "stdout",
     "output_type": "stream",
     "text": [
      "{'US': 2, 'CA': 1}\n",
      "{'US': 3, 'CA': 1, 'IT': 2, 'FR': 1, 'UK': 1}\n"
     ]
    }
   ],
   "source": [
    "# Function to calculate how many countries in a list of user IDS with identifiers of form “userid-COUNTRYID”\n",
    "\n",
    "def countby_countryIDs(my_string):\n",
    "    k = []\n",
    "    for i in range(len(my_string)):\n",
    "        k.append(my_string[i].split(\"-\",1)[1])\n",
    "    v = []\n",
    "    for i in k:\n",
    "        v.append(k.count(i))\n",
    "\n",
    "    output = dict(zip(k,v))\n",
    "    return output\n",
    "\n",
    "# Test scenarios\n",
    "\n",
    "user_set1 = [\"gyhwefy7832ryyg-US\", \"iu7ytf87gyuwef-CA\", \"98yfyg82t3r-US\"]\n",
    "user_set2 = [\"gyhwefy7832ryyg-US\", \"iu7ytf87gyuwef-CA\", \"98yfyg82t3r-US\", \n",
    "             \"iuhsdf897y3righsfe-US\", \"iushdf98h23ryg-IT\", \"iuhdf9h32ryu9gf-IT\", \n",
    "             \"IUufgh98y34-FR\", \"98yfdiuhdfbviuh8-UK\"\n",
    "            ]\n",
    "\n",
    "# Print test results\n",
    "\n",
    "print(countby_countryIDs(user_set1))\n",
    "print(countby_countryIDs(user_set2))"
   ]
  },
  {
   "cell_type": "markdown",
   "metadata": {},
   "source": [
    "# Exercise 10: Identifying top countries\n",
    "\n",
    "Using your solution to the problem above, write a function that returns the top 3 countries by number of users"
   ]
  },
  {
   "cell_type": "code",
   "execution_count": 12,
   "metadata": {},
   "outputs": [
    {
     "data": {
      "text/plain": [
       "[('US', 3), ('IT', 2), ('CA', 1)]"
      ]
     },
     "execution_count": 12,
     "metadata": {},
     "output_type": "execute_result"
    }
   ],
   "source": [
    "# Function that returns the top 3 countries by number of users\n",
    "\n",
    "def top3_countries(my_string):\n",
    "    sorted_countries = sorted(countby_countryIDs(my_string).items(),reverse=True,key=lambda x: x[1])\n",
    "    return sorted_countries[0:3]\n",
    "\n",
    "# Test Scenarios and print results\n",
    "\n",
    "top3_countries(user_set2)"
   ]
  },
  {
   "cell_type": "markdown",
   "metadata": {},
   "source": [
    "# Exercise 11: Century\n",
    "\n",
    "Write a function that takes a year and returns its corresponding century.\n",
    "\n",
    "### Examples\n",
    "\n",
    "```\n",
    "century_from_year(2005) ➞ 21\n",
    "\n",
    "century_from_year(1850) ➞ 19\n",
    "\n",
    "century_from_year(-332) ➞ -4\n",
    "\n",
    "century_from_year(55) ➞ 1\n",
    "\n",
    "century_from_year(-65) ➞ -1\n",
    "```"
   ]
  },
  {
   "cell_type": "code",
   "execution_count": 13,
   "metadata": {},
   "outputs": [
    {
     "name": "stdout",
     "output_type": "stream",
     "text": [
      "21\n",
      "19\n",
      "-4\n",
      "1\n",
      "-1\n"
     ]
    }
   ],
   "source": [
    "# Function that takes a year and returns its corresponding century\n",
    "\n",
    "def century_from_year(year):\n",
    "    if year >= 0:\n",
    "        century = (year//100)+1\n",
    "        return century\n",
    "    else:\n",
    "        century = (year//100)\n",
    "        return century\n",
    "\n",
    "# Test Scenarios and print results\n",
    "\n",
    "print(century_from_year(2005))\n",
    "print(century_from_year(1850))\n",
    "print(century_from_year(-332))\n",
    "print(century_from_year(55))\n",
    "print(century_from_year(-65))"
   ]
  },
  {
   "cell_type": "markdown",
   "metadata": {},
   "source": [
    "# Exercise 12: Grade school addition\n",
    "\n",
    "Write a function that, given two lists of integers, adds them as if they were two numbers. So `12` would be `[1,2]` and `2357` would be `[2,3,5,7]`\n",
    "\n",
    "Ex:\n",
    "\n",
    "```\n",
    "    [1, 1] + [1] ⇒ 11 + 1 = 12\n",
    "    [9, 9] + [2] ⇒ 99 + 2 = 101\n",
    "```"
   ]
  },
  {
   "cell_type": "code",
   "execution_count": 14,
   "metadata": {},
   "outputs": [
    {
     "name": "stdout",
     "output_type": "stream",
     "text": [
      "12\n",
      "101\n",
      "2369\n"
     ]
    }
   ],
   "source": [
    "# Function that, given two lists of integers, adds them as if they were two numbers\n",
    "\n",
    "def twolist_addition(list1,list2):\n",
    "\n",
    "    if len(list1) > 1:\n",
    "        k1=\"\"\n",
    "        for i in list1:\n",
    "            k1 = k1+str(i)\n",
    "            list1_value = int(k1)\n",
    "    else:\n",
    "        list1_value=list1[0]\n",
    "\n",
    "    if len(list2) > 1:\n",
    "        k2=\"\"\n",
    "        for i in list2:\n",
    "            k2 = k2+str(i)\n",
    "            list2_value=int(k2)\n",
    "    else:\n",
    "        list2_value=list2[0]\n",
    "\n",
    "    output=list1_value+list2_value\n",
    "    return output\n",
    "\n",
    "# Test scenarios\n",
    "\n",
    "list1 = [1,1]\n",
    "list2 = [1]\n",
    "\n",
    "list1 = [9,9]\n",
    "list2 = [2]\n",
    "\n",
    "# Print test results\n",
    "\n",
    "print(twolist_addition([1,1],[1]))\n",
    "print(twolist_addition([9,9],[2]))\n",
    "print(twolist_addition([1,2],[2,3,5,7]))"
   ]
  },
  {
   "cell_type": "markdown",
   "metadata": {},
   "source": [
    "# Exercise 13: Printing the pretty pyramid\n",
    "\n",
    "This pyramid is pretty!\n",
    "```\n",
    "* \n",
    "* * \n",
    "* * * \n",
    "* * * * \n",
    "* * * * * \n",
    "* * * * * * \n",
    "* * * * * \n",
    "* * * * \n",
    "* * * \n",
    "* * \n",
    "* \n",
    "```\n",
    "\n",
    "Let's celebrate that.\n",
    "\n",
    "Given a number of rows, print a sideways pyramid with this number of \"levels\" on each side. For instance your function `pretty_pyramid(4)` would print out:\n",
    "\n",
    "```\n",
    "* \n",
    "* * \n",
    "* * * \n",
    "* * * * \n",
    "* * * \n",
    "* * \n",
    "* \n",
    "```\n",
    "\n",
    "And `pretty_pyramid(8)` would print out:\n",
    "\n",
    "```\n",
    "* \n",
    "* * \n",
    "* * * \n",
    "* * * * \n",
    "* * * * * \n",
    "* * * * * * \n",
    "* * * * * * * \n",
    "* * * * * * * * \n",
    "* * * * * * * \n",
    "* * * * * * \n",
    "* * * * * \n",
    "* * * * \n",
    "* * * \n",
    "* * \n",
    "* \n",
    "```"
   ]
  },
  {
   "cell_type": "code",
   "execution_count": 15,
   "metadata": {},
   "outputs": [
    {
     "name": "stdout",
     "output_type": "stream",
     "text": [
      "this is a pretty pyramid with 4 levels \n",
      "\n",
      " *\n",
      " * *\n",
      " * * *\n",
      " * * * *\n",
      " * * * \n",
      " * * \n",
      " * \n",
      "this is a pretty pyramid with 8 levels \n",
      "\n",
      " *\n",
      " * *\n",
      " * * *\n",
      " * * * *\n",
      " * * * * *\n",
      " * * * * * *\n",
      " * * * * * * *\n",
      " * * * * * * * *\n",
      " * * * * * * * \n",
      " * * * * * * \n",
      " * * * * * \n",
      " * * * * \n",
      " * * * \n",
      " * * \n",
      " * \n"
     ]
    }
   ],
   "source": [
    "# Function that given a number of rows, prints a sideways pyramid with this number of \"levels\" on each side\n",
    "\n",
    "def pretty_pyramid(levels):\n",
    "    starstring = \"\"\n",
    "    for i in range(1,levels+1):\n",
    "        starstring_start = \"*\"\n",
    "        starstring = starstring +\" \"+ (starstring_start)\n",
    "        print(starstring)\n",
    "\n",
    "    j=0\n",
    "    for i in range(1,levels):\n",
    "        print(starstring[:-i-j])\n",
    "        j=j+1\n",
    "\n",
    "# Test Scenarios and print results\n",
    "\n",
    "print(\"this is a pretty pyramid with 4 levels \\n\")\n",
    "pretty_pyramid(4)\n",
    "\n",
    "print(\"this is a pretty pyramid with 8 levels \\n\")\n",
    "pretty_pyramid(8)"
   ]
  },
  {
   "cell_type": "markdown",
   "metadata": {},
   "source": [
    "# Exercise 14: Lucky 7\n",
    "\n",
    "Return the sum of the numbers in an array, returning 0 for an empty array. \n",
    "\n",
    "The number 7 is “lucky”, therefore it does countdouble and the number that comes immediately after a 7 countstriple.\n",
    "\n",
    "```\n",
    "lucky_seven([1, 2, 4, 1]) → 8\n",
    "lucky_seven([1, 1]) → 2\n",
    "lucky_seven([1, 2, 2, 1, 7]) → 20\n",
    "lucky_seven([1, 2, 2, 1, 7, 3, 1]) → 30\n",
    "```\n"
   ]
  },
  {
   "cell_type": "code",
   "execution_count": 16,
   "metadata": {},
   "outputs": [
    {
     "name": "stdout",
     "output_type": "stream",
     "text": [
      "0\n",
      "8\n",
      "2\n",
      "20\n",
      "30\n"
     ]
    }
   ],
   "source": [
    "# Function that returns the sum of the numbers in an array, returning 0 for an empty array.\n",
    "\n",
    "def lucky_seven(lottery):\n",
    "    if len(lottery)>0:\n",
    "        flag=0\n",
    "        value=0\n",
    "        for i in range(len(lottery)):\n",
    "            if flag:\n",
    "                n = lottery[i]*3\n",
    "                flag = 0\n",
    "            elif lottery[i]==7:\n",
    "                n = lottery[i]*2\n",
    "                flag = True\n",
    "            else:\n",
    "                n = lottery[i]\n",
    "            value=value+n\n",
    "    else:\n",
    "        value=0\n",
    "    return value\n",
    "\n",
    "# Test Scenarios and print results\n",
    "\n",
    "print(lucky_seven([]))\n",
    "print(lucky_seven([1, 2, 4, 1]))\n",
    "print(lucky_seven([1, 1]))\n",
    "print(lucky_seven([1, 2, 2, 1, 7]))\n",
    "print(lucky_seven([1, 2, 2, 1, 7, 3, 1]))"
   ]
  },
  {
   "cell_type": "markdown",
   "metadata": {},
   "source": [
    "# Exercise 15: Pascal's Triangle\n",
    "\n",
    "[Pascals Triangle](https://en.wikipedia.org/wiki/Pascal%27s_triangle) is a mathematical structure that's important in statistics and [combinatorics](https://en.wikipedia.org/wiki/Combinatorics). It starts with the number 1 and expands as a pyramid where a number is the sum of it's diagonal neighbors on the row above it.\n",
    "\n",
    "It looks like this (you can find more examples in the links):\n",
    "\n",
    "```\n",
    "                 1\n",
    "               1   1\n",
    "             1   2   1\n",
    "           1   3   3   1\n",
    "         1   4   6   4   1\n",
    "       1   5   10   10   5   1\n",
    "     1   6   15   20   15   6   1\n",
    "   1   7   21   35   35   21   7   1\n",
    "```\n",
    "\n",
    "Write a function that given an integer (the number of rows) prints out pascal's triangle up to the specified row. Example:\n",
    "\n",
    "```\n",
    "pascal_triangle(8)\n",
    "```\n",
    "out:\n",
    "```\n",
    "                 1\n",
    "\n",
    "               1   1\n",
    "\n",
    "             1   2   1\n",
    "\n",
    "           1   3   3   1\n",
    "\n",
    "         1   4   6   4   1\n",
    "\n",
    "       1   5   10   10   5   1\n",
    "\n",
    "     1   6   15   20   15   6   1\n",
    "\n",
    "   1   7   21   35   35   21   7   1\n",
    "\n",
    "```\n",
    "Another example\n",
    "\n",
    "```\n",
    "pascal_triangle(3)\n",
    "```\n",
    "out:\n",
    "```\n",
    "                 1\n",
    "\n",
    "               1   1\n",
    "\n",
    "             1   2   1\n",
    "\n",
    "```"
   ]
  },
  {
   "cell_type": "code",
   "execution_count": 17,
   "metadata": {},
   "outputs": [
    {
     "name": "stdout",
     "output_type": "stream",
     "text": [
      "this is a pascal triangle with 3 rows \n",
      "\n",
      "    1   \n",
      "  1   1   \n",
      "1   2   1   \n",
      "\n",
      "\n",
      "this is a pascal triangle with 8 rows \n",
      "\n",
      "              1   \n",
      "            1   1   \n",
      "          1   2   1   \n",
      "        1   3   3   1   \n",
      "      1   4   6   4   1   \n",
      "    1   5   10  10  5   1   \n",
      "  1   6   15  20  15  6   1   \n",
      "1   7   21  35  35  21  7   1   \n"
     ]
    }
   ],
   "source": [
    "# Function that given an integer (the number of rows) prints out pascal's triangle up to the specified row\n",
    "\n",
    "def pascal_triangle(rows):\n",
    "    list1=[]\n",
    "\n",
    "    for i in range(rows):\n",
    "        helperlist=[]\n",
    "        for j in range(i+1):\n",
    "            if j==0 or j==i:\n",
    "                helperlist.append(1)\n",
    "            else:\n",
    "                helperlist.append(list1[i-1][j-1]+list1[i-1][j])\n",
    "        list1.append(helperlist)\n",
    "\n",
    "    for i in range(rows):\n",
    "        for j in range(rows-i-1):\n",
    "            print(format(\" \",\"<2\"),end=\"\")\n",
    "        for j in range(i+1):\n",
    "            print(format(list1[i][j],\"<3\"),end=\" \")\n",
    "        print()\n",
    "\n",
    "# Test Scenarios and print results\n",
    "\n",
    "print(\"this is a pascal triangle with 3 rows \\n\")\n",
    "pascal_triangle(3)\n",
    "print(\"\\n\")\n",
    "print(\"this is a pascal triangle with 8 rows \\n\")\n",
    "pascal_triangle(8)"
   ]
  },
  {
   "cell_type": "code",
   "execution_count": null,
   "metadata": {},
   "outputs": [],
   "source": []
  }
 ],
 "metadata": {
  "file_extension": ".py",
  "kernelspec": {
   "display_name": "Python 3",
   "language": "python",
   "name": "python3"
  },
  "language_info": {
   "codemirror_mode": {
    "name": "ipython",
    "version": 3
   },
   "file_extension": ".py",
   "mimetype": "text/x-python",
   "name": "python",
   "nbconvert_exporter": "python",
   "pygments_lexer": "ipython3",
   "version": "3.8.3"
  },
  "mimetype": "text/x-python",
  "name": "python",
  "npconvert_exporter": "python",
  "pygments_lexer": "ipython3",
  "version": 3
 },
 "nbformat": 4,
 "nbformat_minor": 4
}
